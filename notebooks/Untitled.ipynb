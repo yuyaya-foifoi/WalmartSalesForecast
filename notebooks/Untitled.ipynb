{
 "cells": [
  {
   "cell_type": "code",
   "execution_count": 1,
   "id": "a3f7b085-b35e-4b61-bc5b-33f07ccbe232",
   "metadata": {},
   "outputs": [],
   "source": [
    "import pandas as pd\n",
    "import numpy as np\n",
    "import seaborn as sns\n",
    "import matplotlib.pyplot as plt\n",
    "\n",
    "from datetime import datetime\n",
    "from sklearn.model_selection import train_test_split\n",
    "from sklearn.preprocessing import LabelEncoder\n",
    "\n",
    "from sklearn.ensemble import ExtraTreesRegressor\n",
    "import xgboost as xgb\n",
    "\n",
    "import sys\n",
    "sys.path.append('../')\n",
    "\n",
    "from src.functions import Functions\n",
    "from src.modeling import Modeling\n",
    "\n",
    "import warnings\n",
    "warnings.filterwarnings('ignore')"
   ]
  },
  {
   "cell_type": "code",
   "execution_count": 2,
   "id": "d6ea3e50-ec27-45cd-91cd-a3f8fd26441f",
   "metadata": {},
   "outputs": [],
   "source": [
    "features = pd.read_csv('../data/raw_data/features.csv')\n",
    "sales_train = pd.read_csv('../data/raw_data/train.csv')\n",
    "stores = pd.read_csv('../data/raw_data/stores.csv')\n",
    "sales_test = pd.read_csv('../data/raw_data/test.csv')"
   ]
  },
  {
   "cell_type": "code",
   "execution_count": 3,
   "id": "15da9662-f824-45a1-90f8-2d9dc2edf65b",
   "metadata": {},
   "outputs": [],
   "source": [
    "features = Functions.rollingInterpolation(features)"
   ]
  },
  {
   "cell_type": "code",
   "execution_count": 4,
   "id": "c708d972-8d83-4c3d-8f93-92526ab89baa",
   "metadata": {},
   "outputs": [],
   "source": [
    "df_all_train = sales_train.merge(features, how=\"left\", on=[\"Store\",\"Date\",\"IsHoliday\"]).merge(stores, how=\"left\", on=[\"Store\"])\n",
    "df_all_test = sales_test.merge(features, how=\"left\", on=[\"Store\",\"Date\",\"IsHoliday\"]).merge(stores, how=\"left\", on=[\"Store\"])\n",
    "\n",
    "df_all_train['train_or_test'] = 'train'\n",
    "df_all_test['train_or_test'] = 'test'\n",
    "merged_df = pd.concat([df_all_train, df_all_test], sort=False)\n",
    "\n",
    "merged_df = merged_df.sort_values(by=['Store','Dept','Date'], axis=0).reset_index().drop(columns='index')"
   ]
  },
  {
   "cell_type": "code",
   "execution_count": 5,
   "id": "0af8609b-70e4-4cc3-8d16-91e387b261fd",
   "metadata": {},
   "outputs": [],
   "source": [
    "merged_df = pd.get_dummies(merged_df, columns=[\"Type\"])\n",
    "\n",
    "LE = LabelEncoder()\n",
    "merged_df['IsHoliday'] = LE.fit_transform(merged_df['IsHoliday'])"
   ]
  },
  {
   "cell_type": "code",
   "execution_count": 6,
   "id": "1686e2ac-aca4-42a0-ae30-427d12451202",
   "metadata": {},
   "outputs": [],
   "source": [
    "merged_df = Functions.addDateFeature(merged_df)"
   ]
  },
  {
   "cell_type": "code",
   "execution_count": 7,
   "id": "e03a888d-2918-4b0b-92c3-6c65061d7bd1",
   "metadata": {},
   "outputs": [],
   "source": [
    "#merged_df =  Functions.createDateStatsFeatures(merged_df, 'Monthly_Sales_', ['Store','Dept', 'Month', 'Size'])"
   ]
  },
  {
   "cell_type": "code",
   "execution_count": 8,
   "id": "3ac82709-638e-4396-a5cc-ea92f99ba5d9",
   "metadata": {},
   "outputs": [],
   "source": [
    "def createDateStatsFeatures(df, variable, gp_cols, target='Weekly_Sales', funcs={'mean':np.mean,\n",
    "                                                                                 'median':np.median,\n",
    "                                                                                 'max':np.max,\n",
    "                                                                                 'min':np.min,\n",
    "                                                                                 'std':np.std}):\n",
    "        train_df = df.loc[~(df.train_or_test=='test'), :]\n",
    "        gp = train_df.groupby(gp_cols)\n",
    "        newdf = df[gp_cols].drop_duplicates().reset_index(drop=True)\n",
    "        for name, func in funcs.items():\n",
    "            tmp = gp[target].agg(func).reset_index()\n",
    "            tmp.rename(columns={target:variable + name}, inplace=True)\n",
    "            newdf = newdf.merge(tmp, on=gp_cols, how='left')\n",
    "        return df.merge(newdf, on=gp_cols, how='left')"
   ]
  },
  {
   "cell_type": "code",
   "execution_count": 9,
   "id": "609b2e73-05b7-4486-8e05-38e3d0475f82",
   "metadata": {},
   "outputs": [],
   "source": [
    "#df = merged_df\n",
    "#gp_cols = ['Store','Dept', 'Month', 'Size']\n",
    "#target='Weekly_Sales'\n",
    "#variable = 'a'\n",
    "#funcs={'mean':np.mean,\n",
    "#                                                                                 'median':np.median,\n",
    "#                                                                                 'max':np.max,\n",
    "#                                                                                 'min':np.min,\n",
    "#                                                                                 'std':np.std}\n",
    "#\n",
    "#train_df = df.loc[~(df.train_or_test=='test'), :]\n",
    "#gp = train_df.groupby(gp_cols)\n",
    "#newdf = df[gp_cols].drop_duplicates().reset_index(drop=True)"
   ]
  },
  {
   "cell_type": "code",
   "execution_count": 10,
   "id": "ac0ba927-a383-4212-8653-9bac39a9e390",
   "metadata": {},
   "outputs": [],
   "source": [
    "#for name, func in funcs.items():\n",
    "#    tmp = gp[target].agg(func).reset_index()\n",
    "#    tmp.rename(columns={target:variable + name}, inplace=True)\n",
    "#    newdf = newdf.merge(tmp, on=gp_cols, how='left')"
   ]
  },
  {
   "cell_type": "code",
   "execution_count": 11,
   "id": "62495cbf-3ced-416b-b2a9-d926b81d3e5b",
   "metadata": {},
   "outputs": [],
   "source": [
    "merged_df =  Functions.createDateStatsFeatures(merged_df, 'Monthly_Sales_', ['Store','Dept', 'Month'])\n",
    "merged_df =  Functions.createDateStatsFeatures(merged_df, 'Daily_Sales_', ['Store','Dept', 'Day'])\n",
    "merged_df =  Functions.createDateStatsFeatures(merged_df, 'WeekofMonth_Sales_', ['Store','Dept', 'WeekofMonth'])\n",
    "merged_df =  Functions.createDateStatsFeatures(merged_df, 'WeekofYear_Sales_', ['Store','Dept', 'WeekofYear'])"
   ]
  },
  {
   "cell_type": "code",
   "execution_count": 12,
   "id": "4a9dc743-e2b2-42e1-931b-b828159c166f",
   "metadata": {},
   "outputs": [],
   "source": [
    "merged_df =  Functions.createDateStatsFeatures(merged_df, 'Size_Sales_', ['Store','Dept', 'Size'])\n",
    "merged_df =  Functions.createDateStatsFeatures(merged_df, 'Unemployment_Sales_', ['Store','Dept', 'Unemployment'])\n",
    "merged_df =  Functions.createDateStatsFeatures(merged_df, 'IsHoliday_Sales_', ['Store','Dept', 'IsHoliday'])\n",
    "\n",
    "merged_df =  Functions.createDateStatsFeatures(merged_df, 'Size_Month_Sales_', ['Store','Dept', 'Size', 'Month'])\n",
    "merged_df =  Functions.createDateStatsFeatures(merged_df, 'Unemployment_Month_Sales_', ['Store','Dept', 'Unemployment','Month'])\n",
    "merged_df =  Functions.createDateStatsFeatures(merged_df, 'IsHoliday_Month_Sales_', ['Store','Dept', 'IsHoliday','Month'])\n",
    "merged_df =  Functions.createDateStatsFeatures(merged_df, 'IsHoliday_Month_Size_Sales_', ['Store','Dept', 'IsHoliday','Month', 'Size'])\n",
    "\n",
    "merged_df =  Functions.createDateStatsFeatures(merged_df, 'Size_WeekofMonth_Sales_', ['Store','Dept', 'Size', 'WeekofMonth'])\n",
    "merged_df =  Functions.createDateStatsFeatures(merged_df, 'Unemployment_WeekofMonth_Sales_', ['Store','Dept', 'Unemployment','WeekofMonth'])\n",
    "merged_df =  Functions.createDateStatsFeatures(merged_df, 'IsHoliday_WeekofMonth_Sales_', ['Store','Dept', 'IsHoliday','WeekofMonth'])\n",
    "\n",
    "merged_df =  Functions.createDateStatsFeatures(merged_df, 'Size_WeekofYear_Sales_', ['Store','Dept', 'Size', 'WeekofYear'])\n",
    "merged_df =  Functions.createDateStatsFeatures(merged_df, 'Unemployment_WeekofYear_Sales_', ['Store','Dept', 'Unemployment','WeekofYear'])\n",
    "merged_df =  Functions.createDateStatsFeatures(merged_df, 'IsHoliday_WeekofYear_Sales_', ['Store','Dept', 'IsHoliday','WeekofYear'])\n",
    "\n",
    "merged_df =  Functions.createDateStatsFeatures(merged_df, 'Month_Day_Sales_', ['Store','Dept', 'Month', 'Day'])\n",
    "merged_df =  Functions.createDateStatsFeatures(merged_df, 'Month_WeekofMonth_Sales_', ['Store','Dept', 'Month', 'WeekofMonth'])\n",
    "merged_df =  Functions.createDateStatsFeatures(merged_df, 'Month_WeekofYear_Sales_', ['Store','Dept', 'Month', 'WeekofYear'])\n",
    "merged_df =  Functions.createDateStatsFeatures(merged_df, 'Day_WeekofMonth_Sales_', ['Store','Dept', 'Day', 'WeekofMonth'])\n",
    "merged_df =  Functions.createDateStatsFeatures(merged_df, 'WeekofMonth_WeekofYear_Sales_', ['Store','Dept', 'WeekofMonth', 'WeekofYear'])\n",
    "\n",
    "merged_df =  Functions.createDateStatsFeatures(merged_df, 'Month_WeekofMonth_WeekofMonth_Sales_', ['Store','Dept', 'Month', 'WeekofMonth', 'WeekofYear'])"
   ]
  },
  {
   "cell_type": "code",
   "execution_count": 13,
   "id": "4d124283-4c1f-40e6-ae36-d44fcc3adca4",
   "metadata": {},
   "outputs": [],
   "source": [
    "pd.DataFrame(merged_df.loc[0, :]).to_csv('./df.csv')"
   ]
  },
  {
   "cell_type": "code",
   "execution_count": 14,
   "id": "8a452a3c-c52b-4a17-86b1-301cd4ac725d",
   "metadata": {},
   "outputs": [
    {
     "data": {
      "text/plain": [
       "0         211.096358\n",
       "1         211.242170\n",
       "2         211.289143\n",
       "3         211.319643\n",
       "4         211.350143\n",
       "             ...    \n",
       "536629    193.484651\n",
       "536630    193.516047\n",
       "536631    193.545350\n",
       "536632    193.570990\n",
       "536633    193.589304\n",
       "Name: CPI, Length: 536634, dtype: float64"
      ]
     },
     "execution_count": 14,
     "metadata": {},
     "output_type": "execute_result"
    }
   ],
   "source": [
    "merged_df.CPI"
   ]
  },
  {
   "cell_type": "code",
   "execution_count": null,
   "id": "998839b5-92ef-41f3-b996-ee992d26f79f",
   "metadata": {},
   "outputs": [],
   "source": []
  }
 ],
 "metadata": {
  "kernelspec": {
   "display_name": "Python 3",
   "language": "python",
   "name": "python3"
  },
  "language_info": {
   "codemirror_mode": {
    "name": "ipython",
    "version": 3
   },
   "file_extension": ".py",
   "mimetype": "text/x-python",
   "name": "python",
   "nbconvert_exporter": "python",
   "pygments_lexer": "ipython3",
   "version": "3.8.0"
  }
 },
 "nbformat": 4,
 "nbformat_minor": 5
}
