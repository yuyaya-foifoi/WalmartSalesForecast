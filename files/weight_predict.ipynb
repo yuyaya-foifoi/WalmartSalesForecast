{
 "cells": [
  {
   "cell_type": "code",
   "execution_count": 1,
   "id": "f51b7f5e-c1a3-4d51-afdd-6f4d49ed672b",
   "metadata": {},
   "outputs": [],
   "source": [
    "import pandas as pd\n",
    "import numpy as np\n",
    "from glob import glob"
   ]
  },
  {
   "cell_type": "code",
   "execution_count": 2,
   "id": "cd0f2db9-b9f4-4ccb-9612-2dea1663f1ad",
   "metadata": {},
   "outputs": [],
   "source": [
    "def AveragingModels(files):\n",
    "    arrays = np.array([pd.read_csv(pred).iloc[:, 1] for pred in files])\n",
    "    pred = np.mean(arrays,axis=0)\n",
    "    return pred"
   ]
  },
  {
   "cell_type": "code",
   "execution_count": 3,
   "id": "809a5c0e-b15e-4202-9cde-6c810c951a07",
   "metadata": {},
   "outputs": [],
   "source": [
    "threshold = 3500\n",
    "files_paths = glob('./submissions/*')\n",
    "files = []\n",
    "\n",
    "for file in files_paths:\n",
    "    score = int(file.split('_')[-1][:-4])\n",
    "    if score < threshold:\n",
    "        files.append(file)"
   ]
  },
  {
   "cell_type": "code",
   "execution_count": 4,
   "id": "5caa21af-3eac-4d3d-bb6e-4707366f3382",
   "metadata": {},
   "outputs": [],
   "source": [
    "pred = AveragingModels(files)\n",
    "\n",
    "import datetime\n",
    "dt_now = datetime.datetime.now()\n",
    "dt = str(dt_now)[0:10]; ts = str(dt_now)[-6:]\n",
    "\n",
    "base = pd.read_csv(files[0])\n",
    "base.iloc[:, 1] = pred\n"
   ]
  },
  {
   "cell_type": "code",
   "execution_count": 5,
   "id": "7baa0901-3c60-4bf8-af6c-6d0ccc3efea7",
   "metadata": {},
   "outputs": [],
   "source": [
    "base.to_csv('./ansemble/{l}_models_{dt}_{ts}_thresh_{th}.csv'.format(l=len(files), dt=dt, ts=ts, th=threshold), index=False)"
   ]
  }
 ],
 "metadata": {
  "kernelspec": {
   "display_name": "Python 3",
   "language": "python",
   "name": "python3"
  },
  "language_info": {
   "codemirror_mode": {
    "name": "ipython",
    "version": 3
   },
   "file_extension": ".py",
   "mimetype": "text/x-python",
   "name": "python",
   "nbconvert_exporter": "python",
   "pygments_lexer": "ipython3",
   "version": "3.8.0"
  }
 },
 "nbformat": 4,
 "nbformat_minor": 5
}
