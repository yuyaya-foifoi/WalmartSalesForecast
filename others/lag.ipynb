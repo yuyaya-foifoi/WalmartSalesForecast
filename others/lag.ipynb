{
 "cells": [
  {
   "cell_type": "code",
   "execution_count": 1,
   "id": "b68e4d70-f2b0-4683-967f-0a1c3397947e",
   "metadata": {},
   "outputs": [],
   "source": [
    "import pandas as pd\n",
    "import numpy as np"
   ]
  },
  {
   "cell_type": "code",
   "execution_count": 12,
   "id": "6ee9a201-35ee-4957-a80f-30d88b719aca",
   "metadata": {},
   "outputs": [],
   "source": [
    "# -----------------------------------\n",
    "# ラグ変数\n",
    "# -----------------------------------\n",
    "# データの読み込み\n",
    "train_x = pd.read_csv('./time_series_train.csv')\n",
    "event_history = pd.read_csv('./time_series_events.csv')\n",
    "train_x['date'] = pd.to_datetime(train_x['date'])\n",
    "event_history['date'] = pd.to_datetime(event_history['date'])\n",
    "# -----------------------------------"
   ]
  },
  {
   "cell_type": "code",
   "execution_count": 13,
   "id": "ff6daa63-d162-4d04-a9d0-2c40589a4f5d",
   "metadata": {},
   "outputs": [],
   "source": [
    "occurrences = pd.DataFrame(dates, columns=['date'])\n",
    "sale_history = event_history[event_history['event'] == 'sale']"
   ]
  },
  {
   "cell_type": "code",
   "execution_count": 19,
   "id": "7f94ebb6-5e30-4936-92e2-1adcd834af93",
   "metadata": {},
   "outputs": [
    {
     "data": {
      "text/html": [
       "<div>\n",
       "<style scoped>\n",
       "    .dataframe tbody tr th:only-of-type {\n",
       "        vertical-align: middle;\n",
       "    }\n",
       "\n",
       "    .dataframe tbody tr th {\n",
       "        vertical-align: top;\n",
       "    }\n",
       "\n",
       "    .dataframe thead th {\n",
       "        text-align: right;\n",
       "    }\n",
       "</style>\n",
       "<table border=\"1\" class=\"dataframe\">\n",
       "  <thead>\n",
       "    <tr style=\"text-align: right;\">\n",
       "      <th></th>\n",
       "      <th>date</th>\n",
       "      <th>event</th>\n",
       "    </tr>\n",
       "  </thead>\n",
       "  <tbody>\n",
       "    <tr>\n",
       "      <th>0</th>\n",
       "      <td>2018-01-03</td>\n",
       "      <td>sale</td>\n",
       "    </tr>\n",
       "    <tr>\n",
       "      <th>4</th>\n",
       "      <td>2018-05-03</td>\n",
       "      <td>sale</td>\n",
       "    </tr>\n",
       "    <tr>\n",
       "      <th>5</th>\n",
       "      <td>2018-05-04</td>\n",
       "      <td>sale</td>\n",
       "    </tr>\n",
       "    <tr>\n",
       "      <th>6</th>\n",
       "      <td>2018-05-05</td>\n",
       "      <td>sale</td>\n",
       "    </tr>\n",
       "    <tr>\n",
       "      <th>21</th>\n",
       "      <td>2018-12-30</td>\n",
       "      <td>sale</td>\n",
       "    </tr>\n",
       "  </tbody>\n",
       "</table>\n",
       "</div>"
      ],
      "text/plain": [
       "         date event\n",
       "0  2018-01-03  sale\n",
       "4  2018-05-03  sale\n",
       "5  2018-05-04  sale\n",
       "6  2018-05-05  sale\n",
       "21 2018-12-30  sale"
      ]
     },
     "execution_count": 19,
     "metadata": {},
     "output_type": "execute_result"
    }
   ],
   "source": [
    "sale_history"
   ]
  },
  {
   "cell_type": "code",
   "execution_count": 14,
   "id": "d1347dd7-7351-4715-a7f9-a943f57ad27c",
   "metadata": {},
   "outputs": [],
   "source": [
    "occurrences['sale'] = occurrences['date'].isin(sale_history['date'])"
   ]
  },
  {
   "cell_type": "code",
   "execution_count": 18,
   "id": "60b84d2c-c46f-4616-86f4-2b20936b2ff8",
   "metadata": {},
   "outputs": [
    {
     "data": {
      "text/plain": [
       "5"
      ]
     },
     "execution_count": 18,
     "metadata": {},
     "output_type": "execute_result"
    }
   ],
   "source": [
    "sum(occurrences['sale'] == True)"
   ]
  },
  {
   "cell_type": "code",
   "execution_count": 15,
   "id": "94bdc939-6183-41c1-af1c-c52b31bbbce2",
   "metadata": {},
   "outputs": [
    {
     "data": {
      "text/plain": [
       "0      0\n",
       "1      0\n",
       "2      1\n",
       "3      1\n",
       "4      1\n",
       "      ..\n",
       "360    4\n",
       "361    4\n",
       "362    4\n",
       "363    5\n",
       "364    5\n",
       "Name: sale, Length: 365, dtype: int64"
      ]
     },
     "execution_count": 15,
     "metadata": {},
     "output_type": "execute_result"
    }
   ],
   "source": [
    "occurrences['sale'].cumsum()"
   ]
  },
  {
   "cell_type": "code",
   "execution_count": 2,
   "id": "07cb6476-6b3d-4600-bf3d-3a6caad8ff53",
   "metadata": {},
   "outputs": [],
   "source": [
    "\n",
    "\n",
    "# train_xは学習データで、ユーザID, 日付を列として持つDataFrameとする\n",
    "# event_historyは、過去に開催したイベントの情報で、日付、イベントを列として持つDataFrameとする\n",
    "\n",
    "# occurrencesは、日付、セールが開催されたか否かを列として持つDataFrameとなる\n",
    "dates = np.sort(train_x['date'].unique())\n",
    "occurrences = pd.DataFrame(dates, columns=['date'])\n",
    "sale_history = event_history[event_history['event'] == 'sale']\n",
    "occurrences['sale'] = occurrences['date'].isin(sale_history['date'])\n",
    "\n",
    "# 累積和をとることで、それぞれの日付での累積出現回数を表すようにする\n",
    "# occurrencesは、日付、セールの累積出現回数を列として持つDataFrameとなる\n",
    "occurrences['sale'] = occurrences['sale'].cumsum()\n",
    "\n",
    "# 日付をキーとして学習データと結合する\n",
    "train_x = train_x.merge(occurrences, on='date', how='left')\n"
   ]
  },
  {
   "cell_type": "code",
   "execution_count": 3,
   "id": "15141909-87d4-48c0-b484-97c1b37cdd52",
   "metadata": {},
   "outputs": [
    {
     "data": {
      "text/html": [
       "<div>\n",
       "<style scoped>\n",
       "    .dataframe tbody tr th:only-of-type {\n",
       "        vertical-align: middle;\n",
       "    }\n",
       "\n",
       "    .dataframe tbody tr th {\n",
       "        vertical-align: top;\n",
       "    }\n",
       "\n",
       "    .dataframe thead th {\n",
       "        text-align: right;\n",
       "    }\n",
       "</style>\n",
       "<table border=\"1\" class=\"dataframe\">\n",
       "  <thead>\n",
       "    <tr style=\"text-align: right;\">\n",
       "      <th></th>\n",
       "      <th>user_id</th>\n",
       "      <th>date</th>\n",
       "      <th>target</th>\n",
       "      <th>sale</th>\n",
       "    </tr>\n",
       "  </thead>\n",
       "  <tbody>\n",
       "    <tr>\n",
       "      <th>0</th>\n",
       "      <td>1</td>\n",
       "      <td>2018-01-01</td>\n",
       "      <td>1</td>\n",
       "      <td>0</td>\n",
       "    </tr>\n",
       "    <tr>\n",
       "      <th>1</th>\n",
       "      <td>1</td>\n",
       "      <td>2018-01-02</td>\n",
       "      <td>1</td>\n",
       "      <td>0</td>\n",
       "    </tr>\n",
       "    <tr>\n",
       "      <th>2</th>\n",
       "      <td>1</td>\n",
       "      <td>2018-01-03</td>\n",
       "      <td>1</td>\n",
       "      <td>1</td>\n",
       "    </tr>\n",
       "    <tr>\n",
       "      <th>3</th>\n",
       "      <td>1</td>\n",
       "      <td>2018-01-04</td>\n",
       "      <td>1</td>\n",
       "      <td>1</td>\n",
       "    </tr>\n",
       "    <tr>\n",
       "      <th>4</th>\n",
       "      <td>1</td>\n",
       "      <td>2018-01-05</td>\n",
       "      <td>0</td>\n",
       "      <td>1</td>\n",
       "    </tr>\n",
       "    <tr>\n",
       "      <th>...</th>\n",
       "      <td>...</td>\n",
       "      <td>...</td>\n",
       "      <td>...</td>\n",
       "      <td>...</td>\n",
       "    </tr>\n",
       "    <tr>\n",
       "      <th>36495</th>\n",
       "      <td>100</td>\n",
       "      <td>2018-12-27</td>\n",
       "      <td>0</td>\n",
       "      <td>4</td>\n",
       "    </tr>\n",
       "    <tr>\n",
       "      <th>36496</th>\n",
       "      <td>100</td>\n",
       "      <td>2018-12-28</td>\n",
       "      <td>1</td>\n",
       "      <td>4</td>\n",
       "    </tr>\n",
       "    <tr>\n",
       "      <th>36497</th>\n",
       "      <td>100</td>\n",
       "      <td>2018-12-29</td>\n",
       "      <td>1</td>\n",
       "      <td>4</td>\n",
       "    </tr>\n",
       "    <tr>\n",
       "      <th>36498</th>\n",
       "      <td>100</td>\n",
       "      <td>2018-12-30</td>\n",
       "      <td>1</td>\n",
       "      <td>5</td>\n",
       "    </tr>\n",
       "    <tr>\n",
       "      <th>36499</th>\n",
       "      <td>100</td>\n",
       "      <td>2018-12-31</td>\n",
       "      <td>1</td>\n",
       "      <td>5</td>\n",
       "    </tr>\n",
       "  </tbody>\n",
       "</table>\n",
       "<p>36500 rows × 4 columns</p>\n",
       "</div>"
      ],
      "text/plain": [
       "       user_id       date  target  sale\n",
       "0            1 2018-01-01       1     0\n",
       "1            1 2018-01-02       1     0\n",
       "2            1 2018-01-03       1     1\n",
       "3            1 2018-01-04       1     1\n",
       "4            1 2018-01-05       0     1\n",
       "...        ...        ...     ...   ...\n",
       "36495      100 2018-12-27       0     4\n",
       "36496      100 2018-12-28       1     4\n",
       "36497      100 2018-12-29       1     4\n",
       "36498      100 2018-12-30       1     5\n",
       "36499      100 2018-12-31       1     5\n",
       "\n",
       "[36500 rows x 4 columns]"
      ]
     },
     "execution_count": 3,
     "metadata": {},
     "output_type": "execute_result"
    }
   ],
   "source": [
    "train_x"
   ]
  },
  {
   "cell_type": "code",
   "execution_count": null,
   "id": "2bc5affb-138c-48a3-9647-ba6fe2ad23b5",
   "metadata": {},
   "outputs": [],
   "source": []
  }
 ],
 "metadata": {
  "kernelspec": {
   "display_name": "Python 3",
   "language": "python",
   "name": "python3"
  },
  "language_info": {
   "codemirror_mode": {
    "name": "ipython",
    "version": 3
   },
   "file_extension": ".py",
   "mimetype": "text/x-python",
   "name": "python",
   "nbconvert_exporter": "python",
   "pygments_lexer": "ipython3",
   "version": "3.8.0"
  }
 },
 "nbformat": 4,
 "nbformat_minor": 5
}
